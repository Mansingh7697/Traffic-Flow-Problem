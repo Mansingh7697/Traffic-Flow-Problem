{
  "nbformat": 4,
  "nbformat_minor": 0,
  "metadata": {
    "colab": {
      "provenance": []
    },
    "kernelspec": {
      "name": "python3",
      "display_name": "Python 3"
    },
    "language_info": {
      "name": "python"
    }
  },
  "cells": [
    {
      "cell_type": "code",
      "execution_count": null,
      "metadata": {
        "id": "JSS8KrkdASz0",
        "cellView": "form"
      },
      "outputs": [],
      "source": [
        "# @title Import Libraries:\n",
        "import numpy as np\n",
        "import networkx as nx\n",
        "import matplotlib.pyplot as plt"
      ]
    },
    {
      "cell_type": "code",
      "source": [
        "# @title Function Initilization:\n",
        "def get_routes(num_junctions):\n",
        "    routes = []\n",
        "    for i in range(num_junctions):\n",
        "        junction_name = chr(65 + i)  # Convert to letters A, B, C, etc.\n",
        "        inflow = input(f\"Enter the inflow for junction {junction_name} (comma-separated, e.g. x1,5,x2): \")\n",
        "        outflow = input(f\"Enter the outflow for junction {junction_name} (comma-separated, e.g. x3,10,x4): \")\n",
        "        inflow = inflow.split(',') if inflow else []\n",
        "        outflow = outflow.split(',') if outflow else []\n",
        "        routes.append((junction_name, inflow, outflow))\n",
        "    return routes\n",
        "\n",
        "def draw_graph(routes):\n",
        "    G = nx.DiGraph()\n",
        "    node_labels = {}\n",
        "    edge_labels = {}\n",
        "\n",
        "    # Add nodes and edges to the graph\n",
        "    for junction_name, inflow, outflow in routes:\n",
        "        inflow_label = ' + '.join(inflow)\n",
        "        outflow_label = ' + '.join(outflow)\n",
        "        G.add_node(junction_name, inflow=inflow_label, outflow=outflow_label)\n",
        "        node_labels[junction_name] = junction_name  # Only display junction names inside nodes\n",
        "\n",
        "        for var in inflow:\n",
        "            if var.startswith('x') or var.isdigit():\n",
        "                to_node = junction_name\n",
        "                edge_value = var\n",
        "                matched = False\n",
        "                for other_junction_name, other_inflow, other_outflow in routes:\n",
        "                    if var in other_outflow:\n",
        "                        from_node = other_junction_name\n",
        "                        G.add_edge(from_node, to_node, value=edge_value)\n",
        "                        matched = True\n",
        "                        break\n",
        "                if not matched:\n",
        "                    open_node = f\"In_{var}\"\n",
        "                    G.add_node(open_node)\n",
        "                    G.add_edge(open_node, to_node, value=edge_value)\n",
        "\n",
        "        for var in outflow:\n",
        "            if var.startswith('x') or var.isdigit():\n",
        "                from_node = junction_name\n",
        "                edge_value = var\n",
        "                matched = False\n",
        "                for other_junction_name, other_inflow, other_outflow in routes:\n",
        "                    if var in other_inflow:\n",
        "                        to_node = other_junction_name\n",
        "                        G.add_edge(from_node, to_node, value=edge_value)\n",
        "                        matched = True\n",
        "                        break\n",
        "                if not matched:\n",
        "                    open_node = f\"Out_{var}\"\n",
        "                    G.add_node(open_node)\n",
        "                    G.add_edge(from_node, open_node, value=edge_value)\n",
        "\n",
        "    # pos = nx.circular_layout(G)\n",
        "    pos = nx.planar_layout(G)\n",
        "    # pos = nx.spring_layout(G, seed=36)\n",
        "    plt.figure(figsize=(12, 8))\n",
        "\n",
        "    # Draw nodes with junction names inside\n",
        "    nx.draw_networkx_nodes(G, pos, node_size=700, node_color='lightblue', edgecolors='black')\n",
        "    nx.draw_networkx_labels(G, pos, labels=node_labels, font_size=12, font_family=\"sans-serif\", verticalalignment='center')\n",
        "\n",
        "    # Draw edges and edge labels\n",
        "    nx.draw_networkx_edges(G, pos, edgelist=G.edges(), arrowstyle='-|>', arrowsize=20)\n",
        "    edge_labels = {(u, v): d['value'] for u, v, d in G.edges(data=True)}\n",
        "    nx.draw_networkx_edge_labels(G, pos, edge_labels=edge_labels, font_size=12)\n",
        "\n",
        "    # Draw inflow and outflow labels outside the nodes\n",
        "    for node, (x, y) in pos.items():\n",
        "        inflow_label = G.nodes[node].get('inflow', '')\n",
        "        outflow_label = G.nodes[node].get('outflow', '')\n",
        "\n",
        "        # Position inflow label slightly above the node\n",
        "        if inflow_label:\n",
        "            plt.text(x, y+0.06, f\"In: {inflow_label}\", fontsize=10, ha='center', va='top', bbox=dict(facecolor='white', alpha=0.7))\n",
        "\n",
        "        # Position outflow label slightly below the node\n",
        "        if outflow_label:\n",
        "            plt.text(x, y-0.06, f\"Out: {outflow_label}\", fontsize=10, ha='center', va='bottom', bbox=dict(facecolor='white', alpha=0.7))\n",
        "\n",
        "    plt.title(\"Traffic Flow Problem Graph\")\n",
        "    plt.axis('off')\n",
        "    plt.tight_layout()\n",
        "    plt.show()\n",
        "\n",
        "def generate_equations(routes, num_variables):\n",
        "    equations = []\n",
        "    for junction_name, inflow, outflow in routes:\n",
        "        lhs = \"\"\n",
        "        rhs = 0\n",
        "        for var in inflow:\n",
        "            if var.startswith('x'):\n",
        "                lhs += f\"+{var}\"\n",
        "            else:\n",
        "                rhs -= float(var)\n",
        "        for var in outflow:\n",
        "            if var.startswith('x'):\n",
        "                lhs += f\"-{var}\"\n",
        "            else:\n",
        "                rhs += float(var)\n",
        "        equations.append((lhs, rhs))\n",
        "    return equations\n",
        "\n",
        "def parse_equations(equations, num_variables):\n",
        "    coeff_matrix = np.zeros((len(equations), num_variables))\n",
        "    constants = np.zeros(len(equations))\n",
        "\n",
        "    for i, (lhs, rhs) in enumerate(equations):\n",
        "        lhs = lhs.replace(\" \", \"\").replace(\"-\", \"+-\")\n",
        "        terms = lhs.split('+')\n",
        "        for term in terms:\n",
        "            if term and 'x' in term:\n",
        "                coeff = term[0] if term[0] in \"+-\" else \"+\"\n",
        "                var_idx = int(term.split('x')[1]) - 1\n",
        "                coeff_matrix[i, var_idx] += float(coeff + \"1\")\n",
        "        constants[i] = rhs\n",
        "\n",
        "    return coeff_matrix, constants\n",
        "\n",
        "def reduced_row_echelon_form(A):\n",
        "    A = np.array(A, dtype=np.float64)\n",
        "    rows, cols = A.shape\n",
        "    row = 0\n",
        "    for col in range(cols):\n",
        "        if row >= rows:\n",
        "            break\n",
        "        if A[row, col] == 0:\n",
        "            for i in range(row + 1, rows):\n",
        "                if A[i, col] != 0:\n",
        "                    A[[row, i]] = A[[i, row]]\n",
        "                    break\n",
        "        if A[row, col] != 0:\n",
        "            A[row] = A[row] / A[row, col]\n",
        "            for i in range(rows):\n",
        "                if i != row:\n",
        "                    A[i] = A[i] - A[i, col] * A[row]\n",
        "            row += 1\n",
        "    return A\n",
        "\n",
        "def solve_system(coeff_matrix, constants):\n",
        "    rank = np.linalg.matrix_rank(coeff_matrix)\n",
        "    augmented_matrix = np.c_[coeff_matrix, constants]\n",
        "    augmented_rank = np.linalg.matrix_rank(augmented_matrix)\n",
        "    rref = reduced_row_echelon_form(augmented_matrix.copy())\n",
        "    print(\"\\nRow Echelon Form of the augmented matrix:\")\n",
        "    print(rref)\n",
        "    print(f\"\\nRank of coefficient matrix is {rank}.\")\n",
        "    print(f\"Rank of augmented matrix is {augmented_rank}\")\n",
        "\n",
        "    if rank < augmented_rank:\n",
        "        print(\"\\nNo solution exists.\")\n",
        "        return\n",
        "    elif rank < len(coeff_matrix[0]):\n",
        "        print(\"\\nInfinite solutions exist. Please provide a value for one of the unknowns.\")\n",
        "        variable = int(input(f\"Choose a variable to assign a value (1-{coeff_matrix.shape[1]}): \")) - 1\n",
        "        value = float(input(f\"Enter the value for x{variable+1}: \"))\n",
        "        constants -= value * coeff_matrix[:, variable]\n",
        "        reduced_matrix = np.delete(coeff_matrix, variable, axis=1)\n",
        "        solution = np.linalg.lstsq(reduced_matrix, constants, rcond=None)[0]\n",
        "        solution = np.insert(solution, variable, value)\n",
        "    else:\n",
        "        solution = np.linalg.solve(coeff_matrix, constants)\n",
        "\n",
        "    print(\"\\nSolution is:\")\n",
        "    for i, sol in enumerate(solution):\n",
        "        print(f\"x{i+1} = {sol:.2f}\")\n"
      ],
      "metadata": {
        "id": "PKWn91-1A2Vz",
        "cellView": "form"
      },
      "execution_count": null,
      "outputs": []
    },
    {
      "cell_type": "code",
      "source": [
        "# @title Enter Junctions:\n",
        "num_junctions = int(input(\"Enter the number of junctions: \"))"
      ],
      "metadata": {
        "id": "HOAitsMBB69I",
        "cellView": "form"
      },
      "execution_count": null,
      "outputs": []
    },
    {
      "cell_type": "code",
      "source": [
        "# @title Enter number of unknown variables(Routes):\n",
        "num_variables = int(input(\"Enter the number of routes (unknown variables): \"))"
      ],
      "metadata": {
        "id": "Aa_4n4aGCX0V",
        "cellView": "form"
      },
      "execution_count": null,
      "outputs": []
    },
    {
      "cell_type": "code",
      "source": [
        "# @title Enter route details:\n",
        "print(\"Define the routes for each junction:\")\n",
        "routes = get_routes(num_junctions)\n",
        "draw_graph(routes)"
      ],
      "metadata": {
        "id": "_EPJnCe9Csiv",
        "cellView": "form"
      },
      "execution_count": null,
      "outputs": []
    },
    {
      "cell_type": "code",
      "source": [
        "# @title Get Traffic flow Equations\n",
        "equations = generate_equations(routes, num_variables)\n",
        "\n",
        "print(\"\\nTraffic flow equations:\")\n",
        "for lhs, rhs in equations:\n",
        "  print(f\"{lhs} = {rhs}\")"
      ],
      "metadata": {
        "id": "sqEwLdk_DBKe",
        "cellView": "form"
      },
      "execution_count": null,
      "outputs": []
    },
    {
      "cell_type": "code",
      "source": [
        "# @title Get Coefficient and Constant Matrices:\n",
        "coeff_matrix, constants = parse_equations(equations, num_variables)\n",
        "\n",
        "print(\"\\nTraffic flow equations coefficient matrix:\")\n",
        "print(coeff_matrix)\n",
        "\n",
        "print(\"\\nTraffic flow equations constant vector:\")\n",
        "print(constants)"
      ],
      "metadata": {
        "id": "rP1t6i-VDaQn",
        "cellView": "form"
      },
      "execution_count": null,
      "outputs": []
    },
    {
      "cell_type": "code",
      "source": [
        "# @title Solution:\n",
        "print(f\"Number of unknowns are {num_variables}\")\n",
        "solve_system(coeff_matrix, constants)"
      ],
      "metadata": {
        "id": "JHK2ng8wDk7R",
        "cellView": "form"
      },
      "execution_count": null,
      "outputs": []
    }
  ]
}